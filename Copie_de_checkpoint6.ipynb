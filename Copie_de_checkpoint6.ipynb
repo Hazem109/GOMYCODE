{
  "nbformat": 4,
  "nbformat_minor": 0,
  "metadata": {
    "colab": {
      "name": "Copie de checkpoint6",
      "provenance": [],
      "include_colab_link": true
    },
    "kernelspec": {
      "name": "python3",
      "display_name": "Python 3"
    }
  },
  "cells": [
    {
      "cell_type": "markdown",
      "metadata": {
        "id": "view-in-github",
        "colab_type": "text"
      },
      "source": [
        "<a href=\"https://colab.research.google.com/github/Hazem109/GOMYCODE/blob/main/Copie_de_checkpoint6.ipynb\" target=\"_parent\"><img src=\"https://colab.research.google.com/assets/colab-badge.svg\" alt=\"Open In Colab\"/></a>"
      ]
    },
    {
      "cell_type": "code",
      "metadata": {
        "id": "sHzlVviLVK_N"
      },
      "source": [
        "from google.colab import drive\r\n",
        "drive.mount('/content/drive')\r\n",
        "import pandas as pd\r\n",
        "import numpy as np\r\n",
        "x=pd.read_csv(\"/content/drive/My Drive/iris.data.txt\",sep=\";\")\r\n",
        "x.head()\r\n",
        "import csv\r\n",
        "with open(\"/content/drive/My Drive/iris.data.txt\", 'r') as csvfile:\r\n",
        "  lines = csv.reader(csvfile)\r\n",
        "  for row in lines :\r\n",
        "    print (', '.join(row))"
      ],
      "execution_count": null,
      "outputs": []
    },
    {
      "cell_type": "code",
      "metadata": {
        "id": "Bb4uDk63YnwO"
      },
      "source": [
        "import csv\r\n",
        "import random\r\n",
        "def loadDataset(filename, split, trainingSet=[] , testSet=[]):\r\n",
        "  with open(filename, 'r') as csvfile:\r\n",
        "      lines = csv.reader(csvfile)\r\n",
        "      dataset = list(lines)\r\n",
        "      for x in range(len(dataset)-1):\r\n",
        "          for y in range(4):\r\n",
        "              dataset[x][y]= float(dataset[x][y])\r\n",
        "          if random.random() < split:\r\n",
        "            trainingSet.append(dataset[x])\r\n",
        "          else:\r\n",
        "            testSet.append(dataset[x])\r\n",
        "trainingSet=[]\r\n",
        "testSet=[]\r\n",
        "loadDataset('/content/drive/My Drive/iris.data.txt', 0.66, trainingSet, testSet)\r\n",
        "print ('Train: ' + repr(len(trainingSet)))\r\n",
        "print ('Test: ' + repr(len(testSet)) )"
      ],
      "execution_count": null,
      "outputs": []
    },
    {
      "cell_type": "code",
      "metadata": {
        "id": "i1iOsKedckn6"
      },
      "source": [
        "import math\r\n",
        "def euclideanDistance(instance1, instance2, length):\r\n",
        "  s=0\r\n",
        "  for i in range(length):\r\n",
        "    s=s+((instance1[i]-instance2[i])**2)\r\n",
        "  result=math.sqrt(s)\r\n",
        "  return(result)\r\n",
        "data1 = [2, 2, 2, 'a']\r\n",
        "data2 = [4, 4, 4, 'b']\r\n",
        "distance = euclideanDistance(data1,data2,3)\r\n",
        "print('Distance:'+ repr(distance))"
      ],
      "execution_count": null,
      "outputs": []
    },
    {
      "cell_type": "code",
      "metadata": {
        "id": "TRsTDjERo9nd"
      },
      "source": [
        "import operator\r\n",
        "def getNeighbors(trainingSet, testInstance, k):\r\n",
        "  distances = []\r\n",
        "  length = len(testInstance)-1\r\n",
        "  for x in range(len(trainingSet)):\r\n",
        "    dist = euclideanDistance(testInstance, trainingSet[x], length)\r\n",
        "    distances.append((trainingSet[x], dist))\r\n",
        "    distances.sort(key=operator.itemgetter(1))\r\n",
        "    neighbors = []\r\n",
        "  for x in range(k):\r\n",
        "    neighbors.append(distances[x][0])\r\n",
        "  return neighbors\r\n",
        "trainSet = [[2, 2, 2, 'a'], [4, 4, 4, 'b']]\r\n",
        "testInstance = [5, 5, 5]\r\n",
        "k = 1\r\n",
        "neighbors = getNeighbors(trainSet, testInstance, 1)\r\n",
        "print(neighbors)"
      ],
      "execution_count": null,
      "outputs": []
    },
    {
      "cell_type": "code",
      "metadata": {
        "id": "vv5sCcGBqOP0"
      },
      "source": [
        "def getResponse(neighbors):\r\n",
        "  classVotes={}\r\n",
        "  for x in range(len(neighbors)):\r\n",
        "    response=neighbors[x][-1]\r\n",
        "    if response in classVotes:\r\n",
        "      classVotes[response]=int(classVotes[response])+1\r\n",
        "    else:\r\n",
        "      classVotes[response]=1\r\n",
        "  sortedVotes = sorted(classVotes.items(), key=operator.itemgetter(1), reverse=True)\r\n",
        "  return(sortedVotes[0][0])\r\n",
        "neighbors = [[1,1,1,'a'], [2,2,2,'a'], [3,3,3,'b']]\r\n",
        "response = getResponse(neighbors)\r\n",
        "print(response)"
      ],
      "execution_count": null,
      "outputs": []
    },
    {
      "cell_type": "code",
      "metadata": {
        "id": "AsGowAcG1Jur"
      },
      "source": [
        "def getAccuracy(testSet, predictions):\r\n",
        "  correct=0\r\n",
        "  for i in range(len(predictions)):\r\n",
        "     if predictions[i]==testSet[i][-1]:\r\n",
        "       correct=correct+1\r\n",
        "  return (correct/float(len(testSet))) * 100.0\r\n",
        "testSet = [[1,1,1,'a'], [2,2,2,'a'], [3,3,3,'b']]\r\n",
        "predictions = ['a', 'a', 'a']\r\n",
        "accuracy = getAccuracy(testSet, predictions)\r\n",
        "print(accuracy)"
      ],
      "execution_count": null,
      "outputs": []
    },
    {
      "cell_type": "code",
      "metadata": {
        "id": "BT2Kx8K-7bEj"
      },
      "source": [
        "def main(k=3):\r\n",
        "  trainingSet=[]\r\n",
        "  testSet=[]\r\n",
        "  l1=[]\r\n",
        "  loadDataset(\"/content/drive/My Drive/iris.data.txt\",0.66,trainingSet,testSet)\r\n",
        "  for i in range(len(testSet)):\r\n",
        "    N=getNeighbors(trainingSet,testSet[i],k)\r\n",
        "    pred=getResponse(N)\r\n",
        "    l1.append(pred)\r\n",
        "  acc=getAccuracy(testSet,l1)\r\n",
        "  return(acc)\r\n",
        "print(main())"
      ],
      "execution_count": null,
      "outputs": []
    },
    {
      "cell_type": "code",
      "metadata": {
        "id": "wNXvxDNRE6Wn"
      },
      "source": [
        "def ManhatanDistance(instance1, instance2, length):\r\n",
        "  s=0\r\n",
        "  for i in range(length):\r\n",
        "    s=s+abs((instance1[i]-instance2[i]))\r\n",
        "def getNeighborsManhatan(trainingSet, testInstance, k):\r\n",
        "  distances = []\r\n",
        "  length = len(testInstance)-1\r\n",
        "  for x in range(len(trainingSet)):\r\n",
        "    dist=ManhatanDistance(testInstance, trainingSet[x], length)\r\n",
        "    distances.append((trainingSet[x], dist))\r\n",
        "    distances.sort(key=operator.itemgetter(1))\r\n",
        "    neighbors = []\r\n",
        "  for x in range(k):\r\n",
        "    neighbors.append(distances[x][0])\r\n",
        "  return neighbors"
      ],
      "execution_count": null,
      "outputs": []
    },
    {
      "cell_type": "code",
      "metadata": {
        "id": "Symg3VeFF5rz"
      },
      "source": [
        "def main2(k=3):\r\n",
        "  trainingSet=[]\r\n",
        "  testSet=[]\r\n",
        "  l1=[]\r\n",
        "  loadDataset(\"/content/drive/My Drive/iris.data.txt\",0.66,trainingSet,testSet)\r\n",
        "  for i in range(len(testSet)):\r\n",
        "    N=getNeighborsManhatan(trainingSet,testSet[i],k)\r\n",
        "    pred=getResponse(N)\r\n",
        "    l1.append(pred)\r\n",
        "  acc=getAccuracy(testSet,l1)\r\n",
        "  return(acc)\r\n",
        "print(main())\r\n"
      ],
      "execution_count": null,
      "outputs": []
    }
  ]
}