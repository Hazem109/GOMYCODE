{
  "nbformat": 4,
  "nbformat_minor": 0,
  "metadata": {
    "colab": {
      "name": "Untitled0.ipynb",
      "provenance": [],
      "collapsed_sections": [],
      "authorship_tag": "ABX9TyPc1NS5QB61eb/xyyC8ljbh",
      "include_colab_link": true
    },
    "kernelspec": {
      "name": "python3",
      "display_name": "Python 3"
    }
  },
  "cells": [
    {
      "cell_type": "markdown",
      "metadata": {
        "id": "view-in-github",
        "colab_type": "text"
      },
      "source": [
        "<a href=\"https://colab.research.google.com/github/Hazem109/GOMYCODE/blob/main/Untitled0.ipynb\" target=\"_parent\"><img src=\"https://colab.research.google.com/assets/colab-badge.svg\" alt=\"Open In Colab\"/></a>"
      ]
    },
    {
      "cell_type": "code",
      "metadata": {
        "colab": {
          "base_uri": "https://localhost:8080/"
        },
        "id": "akGOhYoczvdw",
        "outputId": "12778a07-3cf0-446e-82d4-360670750b0b"
      },
      "source": [
        "#task 1\r\n",
        "l1=[]\r\n",
        "for i in range (2000,3201):\r\n",
        "  if i%7==0:\r\n",
        "    if i/5!=0:\r\n",
        "      l1.append(int(i))\r\n",
        "print(l1)\r\n"
      ],
      "execution_count": null,
      "outputs": [
        {
          "output_type": "stream",
          "text": [
            "[2002, 2009, 2016, 2023, 2030, 2037, 2044, 2051, 2058, 2065, 2072, 2079, 2086, 2093, 2100, 2107, 2114, 2121, 2128, 2135, 2142, 2149, 2156, 2163, 2170, 2177, 2184, 2191, 2198, 2205, 2212, 2219, 2226, 2233, 2240, 2247, 2254, 2261, 2268, 2275, 2282, 2289, 2296, 2303, 2310, 2317, 2324, 2331, 2338, 2345, 2352, 2359, 2366, 2373, 2380, 2387, 2394, 2401, 2408, 2415, 2422, 2429, 2436, 2443, 2450, 2457, 2464, 2471, 2478, 2485, 2492, 2499, 2506, 2513, 2520, 2527, 2534, 2541, 2548, 2555, 2562, 2569, 2576, 2583, 2590, 2597, 2604, 2611, 2618, 2625, 2632, 2639, 2646, 2653, 2660, 2667, 2674, 2681, 2688, 2695, 2702, 2709, 2716, 2723, 2730, 2737, 2744, 2751, 2758, 2765, 2772, 2779, 2786, 2793, 2800, 2807, 2814, 2821, 2828, 2835, 2842, 2849, 2856, 2863, 2870, 2877, 2884, 2891, 2898, 2905, 2912, 2919, 2926, 2933, 2940, 2947, 2954, 2961, 2968, 2975, 2982, 2989, 2996, 3003, 3010, 3017, 3024, 3031, 3038, 3045, 3052, 3059, 3066, 3073, 3080, 3087, 3094, 3101, 3108, 3115, 3122, 3129, 3136, 3143, 3150, 3157, 3164, 3171, 3178, 3185, 3192, 3199]\n"
          ],
          "name": "stdout"
        }
      ]
    },
    {
      "cell_type": "code",
      "metadata": {
        "colab": {
          "base_uri": "https://localhost:8080/"
        },
        "id": "NlqGfVP1_hgY",
        "outputId": "db2d6712-e4ec-45ed-dd77-223f7f0abbec"
      },
      "source": [
        "#task 2 \r\n",
        "x=int(input(\"type a number\"))\r\n",
        "y=1\r\n",
        "for i in range(1,x+1):\r\n",
        "   y=y*i\r\n",
        "print(y)"
      ],
      "execution_count": 7,
      "outputs": [
        {
          "output_type": "stream",
          "text": [
            "type a number5\n",
            "120\n"
          ],
          "name": "stdout"
        }
      ]
    },
    {
      "cell_type": "code",
      "metadata": {
        "id": "zBmWaKqa-XhA",
        "colab": {
          "base_uri": "https://localhost:8080/"
        },
        "outputId": "8bc4068c-1de4-49d5-b487-6741a9ee6b0b"
      },
      "source": [
        "#task 3\r\n",
        "dic1={}\r\n",
        "for i in range(int(input(\"type a number:\"))+1):\r\n",
        "  dic1 [i]=i*i\r\n",
        "print(dic1)"
      ],
      "execution_count": 25,
      "outputs": [
        {
          "output_type": "stream",
          "text": [
            "type a number:8\n",
            "{0: 0, 1: 1, 2: 4, 3: 9, 4: 16, 5: 25, 6: 36, 7: 49, 8: 64}\n"
          ],
          "name": "stdout"
        }
      ]
    },
    {
      "cell_type": "code",
      "metadata": {
        "colab": {
          "base_uri": "https://localhost:8080/"
        },
        "id": "nMaw22afs9Z6",
        "outputId": "9b3ce9b7-ca55-4692-a1f0-53c208573d45"
      },
      "source": [
        "#task4:\r\n",
        "n=\"\"\r\n",
        "x=input(\"type a word:\")\r\n",
        "y=int(input(\"type a number:\"))\r\n",
        "f=(x[y])\r\n",
        "for i in x:\r\n",
        "  if i!=f:\r\n",
        "    n=n+i\r\n",
        "print(n)"
      ],
      "execution_count": 31,
      "outputs": [
        {
          "output_type": "stream",
          "text": [
            "type a word:azerty\n",
            "type a number:4\n",
            "azery\n"
          ],
          "name": "stdout"
        }
      ]
    },
    {
      "cell_type": "code",
      "metadata": {
        "colab": {
          "base_uri": "https://localhost:8080/"
        },
        "id": "CXQaqbiFv9IG",
        "outputId": "0c5e5c83-f96c-4152-b47f-b31bdf70e9ce"
      },
      "source": [
        "#task5:\r\n",
        "import numpy as np\r\n",
        "x=np.array([[1,2,3],[4,5,6],[7,8,9]])\r\n",
        "y=x.tolist()\r\n",
        "print(y)\r\n"
      ],
      "execution_count": 35,
      "outputs": [
        {
          "output_type": "stream",
          "text": [
            "[[1, 2, 3], [4, 5, 6], [7, 8, 9]]\n"
          ],
          "name": "stdout"
        }
      ]
    },
    {
      "cell_type": "code",
      "metadata": {
        "colab": {
          "base_uri": "https://localhost:8080/"
        },
        "id": "2WWVRsjmxI-w",
        "outputId": "d090e328-8f79-45e1-8ff0-f5a5ee3ce54b"
      },
      "source": [
        "#task6:\r\n",
        "import numpy as np\r\n",
        "x=np.array([0,1,2])\r\n",
        "y=np.array([2,1,0])\r\n",
        "v=np.cov(x,y)\r\n",
        "v"
      ],
      "execution_count": 45,
      "outputs": [
        {
          "output_type": "execute_result",
          "data": {
            "text/plain": [
              "array([[ 1., -1.],\n",
              "       [-1.,  1.]])"
            ]
          },
          "metadata": {
            "tags": []
          },
          "execution_count": 45
        }
      ]
    },
    {
      "cell_type": "code",
      "metadata": {
        "colab": {
          "base_uri": "https://localhost:8080/"
        },
        "id": "2g2qsDAhx9hn",
        "outputId": "83f4d719-969e-4aaf-c31e-36b21dd5f846"
      },
      "source": [
        "#task7:\r\n",
        "import math \r\n",
        "x=input(\"type your numbers:\")\r\n",
        "x=x.split(\",\")\r\n",
        "l1=[]\r\n",
        "h=\"\"\r\n",
        "f=\"\"\r\n",
        "for u in range (len(x)):\r\n",
        "  x.append(int(x[0]))\r\n",
        "  x.remove(x[0])\r\n",
        "for i in range (len(x)):\r\n",
        "    c=int(math.sqrt(float((100*x[i])/30)))\r\n",
        "    h=h+str(c)+\",\"\r\n",
        "for j in range(len(h)-1):\r\n",
        "  f=f+h[j]\r\n",
        "print(f)"
      ],
      "execution_count": 60,
      "outputs": [
        {
          "output_type": "stream",
          "text": [
            "type your numbers:12,21,41\n",
            "6,8,11\n"
          ],
          "name": "stdout"
        }
      ]
    },
    {
      "cell_type": "markdown",
      "metadata": {
        "id": "xxecnmTAyAUx"
      },
      "source": [
        "\r\n"
      ]
    }
  ]
}